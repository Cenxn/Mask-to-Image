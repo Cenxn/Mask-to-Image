{
 "cells": [
  {
   "cell_type": "code",
   "execution_count": 1,
   "metadata": {
    "collapsed": true
   },
   "outputs": [],
   "source": [
    "import os\n",
    "\n",
    "PATH = 'F:\\WarehouseOfRui\\FYP\\Cropped_imgs\\Dataset_now'\n",
    "\n",
    "allfileli = os.listdir(PATH)\n",
    "files = []\n",
    "for item in allfileli:\n",
    "    check = item.split('.')\n",
    "    if check[1]=='json':\n",
    "        files.append(check[0])"
   ]
  },
  {
   "cell_type": "code",
   "execution_count": 17,
   "outputs": [
    {
     "name": "stdout",
     "output_type": "stream",
     "text": [
      "[finished] labelme_json_to_dataset F:\\WarehouseOfRui\\FYP\\Cropped_imgs\\Dataset_now\\0.json -o F:\\WarehouseOfRui\\JsonToDataset\\0\n",
      "[finished] labelme_json_to_dataset F:\\WarehouseOfRui\\FYP\\Cropped_imgs\\Dataset_now\\10.json -o F:\\WarehouseOfRui\\JsonToDataset\\10\n",
      "[finished] labelme_json_to_dataset F:\\WarehouseOfRui\\FYP\\Cropped_imgs\\Dataset_now\\11.json -o F:\\WarehouseOfRui\\JsonToDataset\\11\n",
      "[finished] labelme_json_to_dataset F:\\WarehouseOfRui\\FYP\\Cropped_imgs\\Dataset_now\\12.json -o F:\\WarehouseOfRui\\JsonToDataset\\12\n",
      "[finished] labelme_json_to_dataset F:\\WarehouseOfRui\\FYP\\Cropped_imgs\\Dataset_now\\13.json -o F:\\WarehouseOfRui\\JsonToDataset\\13\n",
      "[finished] labelme_json_to_dataset F:\\WarehouseOfRui\\FYP\\Cropped_imgs\\Dataset_now\\14.json -o F:\\WarehouseOfRui\\JsonToDataset\\14\n",
      "[finished] labelme_json_to_dataset F:\\WarehouseOfRui\\FYP\\Cropped_imgs\\Dataset_now\\15.json -o F:\\WarehouseOfRui\\JsonToDataset\\15\n",
      "[finished] labelme_json_to_dataset F:\\WarehouseOfRui\\FYP\\Cropped_imgs\\Dataset_now\\16.json -o F:\\WarehouseOfRui\\JsonToDataset\\16\n",
      "[finished] labelme_json_to_dataset F:\\WarehouseOfRui\\FYP\\Cropped_imgs\\Dataset_now\\17.json -o F:\\WarehouseOfRui\\JsonToDataset\\17\n",
      "[finished] labelme_json_to_dataset F:\\WarehouseOfRui\\FYP\\Cropped_imgs\\Dataset_now\\19.json -o F:\\WarehouseOfRui\\JsonToDataset\\19\n",
      "[finished] labelme_json_to_dataset F:\\WarehouseOfRui\\FYP\\Cropped_imgs\\Dataset_now\\2.json -o F:\\WarehouseOfRui\\JsonToDataset\\2\n",
      "[finished] labelme_json_to_dataset F:\\WarehouseOfRui\\FYP\\Cropped_imgs\\Dataset_now\\20.json -o F:\\WarehouseOfRui\\JsonToDataset\\20\n",
      "[finished] labelme_json_to_dataset F:\\WarehouseOfRui\\FYP\\Cropped_imgs\\Dataset_now\\21.json -o F:\\WarehouseOfRui\\JsonToDataset\\21\n",
      "[finished] labelme_json_to_dataset F:\\WarehouseOfRui\\FYP\\Cropped_imgs\\Dataset_now\\22.json -o F:\\WarehouseOfRui\\JsonToDataset\\22\n",
      "[finished] labelme_json_to_dataset F:\\WarehouseOfRui\\FYP\\Cropped_imgs\\Dataset_now\\23.json -o F:\\WarehouseOfRui\\JsonToDataset\\23\n",
      "[finished] labelme_json_to_dataset F:\\WarehouseOfRui\\FYP\\Cropped_imgs\\Dataset_now\\24.json -o F:\\WarehouseOfRui\\JsonToDataset\\24\n",
      "[finished] labelme_json_to_dataset F:\\WarehouseOfRui\\FYP\\Cropped_imgs\\Dataset_now\\26.json -o F:\\WarehouseOfRui\\JsonToDataset\\26\n",
      "[finished] labelme_json_to_dataset F:\\WarehouseOfRui\\FYP\\Cropped_imgs\\Dataset_now\\27.json -o F:\\WarehouseOfRui\\JsonToDataset\\27\n",
      "[finished] labelme_json_to_dataset F:\\WarehouseOfRui\\FYP\\Cropped_imgs\\Dataset_now\\28.json -o F:\\WarehouseOfRui\\JsonToDataset\\28\n",
      "[finished] labelme_json_to_dataset F:\\WarehouseOfRui\\FYP\\Cropped_imgs\\Dataset_now\\29.json -o F:\\WarehouseOfRui\\JsonToDataset\\29\n",
      "[finished] labelme_json_to_dataset F:\\WarehouseOfRui\\FYP\\Cropped_imgs\\Dataset_now\\3.json -o F:\\WarehouseOfRui\\JsonToDataset\\3\n",
      "[finished] labelme_json_to_dataset F:\\WarehouseOfRui\\FYP\\Cropped_imgs\\Dataset_now\\30.json -o F:\\WarehouseOfRui\\JsonToDataset\\30\n",
      "[finished] labelme_json_to_dataset F:\\WarehouseOfRui\\FYP\\Cropped_imgs\\Dataset_now\\31.json -o F:\\WarehouseOfRui\\JsonToDataset\\31\n",
      "[finished] labelme_json_to_dataset F:\\WarehouseOfRui\\FYP\\Cropped_imgs\\Dataset_now\\32.json -o F:\\WarehouseOfRui\\JsonToDataset\\32\n",
      "[finished] labelme_json_to_dataset F:\\WarehouseOfRui\\FYP\\Cropped_imgs\\Dataset_now\\33.json -o F:\\WarehouseOfRui\\JsonToDataset\\33\n",
      "[finished] labelme_json_to_dataset F:\\WarehouseOfRui\\FYP\\Cropped_imgs\\Dataset_now\\34.json -o F:\\WarehouseOfRui\\JsonToDataset\\34\n",
      "[finished] labelme_json_to_dataset F:\\WarehouseOfRui\\FYP\\Cropped_imgs\\Dataset_now\\35.json -o F:\\WarehouseOfRui\\JsonToDataset\\35\n",
      "[finished] labelme_json_to_dataset F:\\WarehouseOfRui\\FYP\\Cropped_imgs\\Dataset_now\\36.json -o F:\\WarehouseOfRui\\JsonToDataset\\36\n",
      "[finished] labelme_json_to_dataset F:\\WarehouseOfRui\\FYP\\Cropped_imgs\\Dataset_now\\37.json -o F:\\WarehouseOfRui\\JsonToDataset\\37\n",
      "[finished] labelme_json_to_dataset F:\\WarehouseOfRui\\FYP\\Cropped_imgs\\Dataset_now\\39.json -o F:\\WarehouseOfRui\\JsonToDataset\\39\n",
      "[finished] labelme_json_to_dataset F:\\WarehouseOfRui\\FYP\\Cropped_imgs\\Dataset_now\\4.json -o F:\\WarehouseOfRui\\JsonToDataset\\4\n",
      "[finished] labelme_json_to_dataset F:\\WarehouseOfRui\\FYP\\Cropped_imgs\\Dataset_now\\40.json -o F:\\WarehouseOfRui\\JsonToDataset\\40\n",
      "[finished] labelme_json_to_dataset F:\\WarehouseOfRui\\FYP\\Cropped_imgs\\Dataset_now\\41.json -o F:\\WarehouseOfRui\\JsonToDataset\\41\n",
      "[finished] labelme_json_to_dataset F:\\WarehouseOfRui\\FYP\\Cropped_imgs\\Dataset_now\\42.json -o F:\\WarehouseOfRui\\JsonToDataset\\42\n",
      "[finished] labelme_json_to_dataset F:\\WarehouseOfRui\\FYP\\Cropped_imgs\\Dataset_now\\43.json -o F:\\WarehouseOfRui\\JsonToDataset\\43\n",
      "[finished] labelme_json_to_dataset F:\\WarehouseOfRui\\FYP\\Cropped_imgs\\Dataset_now\\44.json -o F:\\WarehouseOfRui\\JsonToDataset\\44\n",
      "[finished] labelme_json_to_dataset F:\\WarehouseOfRui\\FYP\\Cropped_imgs\\Dataset_now\\45.json -o F:\\WarehouseOfRui\\JsonToDataset\\45\n",
      "[finished] labelme_json_to_dataset F:\\WarehouseOfRui\\FYP\\Cropped_imgs\\Dataset_now\\46.json -o F:\\WarehouseOfRui\\JsonToDataset\\46\n",
      "[finished] labelme_json_to_dataset F:\\WarehouseOfRui\\FYP\\Cropped_imgs\\Dataset_now\\47.json -o F:\\WarehouseOfRui\\JsonToDataset\\47\n",
      "[finished] labelme_json_to_dataset F:\\WarehouseOfRui\\FYP\\Cropped_imgs\\Dataset_now\\48.json -o F:\\WarehouseOfRui\\JsonToDataset\\48\n",
      "[finished] labelme_json_to_dataset F:\\WarehouseOfRui\\FYP\\Cropped_imgs\\Dataset_now\\49.json -o F:\\WarehouseOfRui\\JsonToDataset\\49\n",
      "[finished] labelme_json_to_dataset F:\\WarehouseOfRui\\FYP\\Cropped_imgs\\Dataset_now\\5.json -o F:\\WarehouseOfRui\\JsonToDataset\\5\n",
      "[finished] labelme_json_to_dataset F:\\WarehouseOfRui\\FYP\\Cropped_imgs\\Dataset_now\\50.json -o F:\\WarehouseOfRui\\JsonToDataset\\50\n",
      "[finished] labelme_json_to_dataset F:\\WarehouseOfRui\\FYP\\Cropped_imgs\\Dataset_now\\6.json -o F:\\WarehouseOfRui\\JsonToDataset\\6\n",
      "[finished] labelme_json_to_dataset F:\\WarehouseOfRui\\FYP\\Cropped_imgs\\Dataset_now\\7.json -o F:\\WarehouseOfRui\\JsonToDataset\\7\n",
      "[finished] labelme_json_to_dataset F:\\WarehouseOfRui\\FYP\\Cropped_imgs\\Dataset_now\\8.json -o F:\\WarehouseOfRui\\JsonToDataset\\8\n"
     ]
    }
   ],
   "source": [
    "STORE_PATH = 'F:\\WarehouseOfRui\\JsonToDataset'\n",
    "\n",
    "for idx in files:\n",
    "    folder_path = os.path.join(STORE_PATH, idx)\n",
    "    json_path = os.path.join(PATH, idx + '.json')\n",
    "    cmd = str('labelme_json_to_dataset %s -o %s'% (json_path, folder_path))\n",
    "    os.system(cmd)\n",
    "    print('[finished]',cmd)"
   ],
   "metadata": {
    "collapsed": false,
    "pycharm": {
     "name": "#%%\n"
    }
   }
  },
  {
   "cell_type": "code",
   "execution_count": 26,
   "outputs": [
    {
     "name": "stdout",
     "output_type": "stream",
     "text": [
      "[finished] F:\\WarehouseOfRui\\JsonToDataset\\Masks\\0.png\n",
      "[finished] F:\\WarehouseOfRui\\JsonToDataset\\Masks\\10.png\n",
      "[finished] F:\\WarehouseOfRui\\JsonToDataset\\Masks\\11.png\n",
      "[finished] F:\\WarehouseOfRui\\JsonToDataset\\Masks\\12.png\n",
      "[finished] F:\\WarehouseOfRui\\JsonToDataset\\Masks\\13.png\n",
      "[finished] F:\\WarehouseOfRui\\JsonToDataset\\Masks\\14.png\n",
      "[finished] F:\\WarehouseOfRui\\JsonToDataset\\Masks\\15.png\n",
      "[finished] F:\\WarehouseOfRui\\JsonToDataset\\Masks\\16.png\n",
      "[finished] F:\\WarehouseOfRui\\JsonToDataset\\Masks\\17.png\n",
      "[finished] F:\\WarehouseOfRui\\JsonToDataset\\Masks\\19.png\n",
      "[finished] F:\\WarehouseOfRui\\JsonToDataset\\Masks\\2.png\n",
      "[finished] F:\\WarehouseOfRui\\JsonToDataset\\Masks\\20.png\n",
      "[finished] F:\\WarehouseOfRui\\JsonToDataset\\Masks\\21.png\n",
      "[finished] F:\\WarehouseOfRui\\JsonToDataset\\Masks\\22.png\n",
      "[finished] F:\\WarehouseOfRui\\JsonToDataset\\Masks\\23.png\n",
      "[finished] F:\\WarehouseOfRui\\JsonToDataset\\Masks\\24.png\n",
      "[finished] F:\\WarehouseOfRui\\JsonToDataset\\Masks\\26.png\n",
      "[finished] F:\\WarehouseOfRui\\JsonToDataset\\Masks\\27.png\n",
      "[finished] F:\\WarehouseOfRui\\JsonToDataset\\Masks\\28.png\n",
      "[finished] F:\\WarehouseOfRui\\JsonToDataset\\Masks\\29.png\n",
      "[finished] F:\\WarehouseOfRui\\JsonToDataset\\Masks\\3.png\n",
      "[finished] F:\\WarehouseOfRui\\JsonToDataset\\Masks\\30.png\n",
      "[finished] F:\\WarehouseOfRui\\JsonToDataset\\Masks\\31.png\n",
      "[finished] F:\\WarehouseOfRui\\JsonToDataset\\Masks\\32.png\n",
      "[finished] F:\\WarehouseOfRui\\JsonToDataset\\Masks\\33.png\n",
      "[finished] F:\\WarehouseOfRui\\JsonToDataset\\Masks\\34.png\n",
      "[finished] F:\\WarehouseOfRui\\JsonToDataset\\Masks\\35.png\n",
      "[finished] F:\\WarehouseOfRui\\JsonToDataset\\Masks\\36.png\n",
      "[finished] F:\\WarehouseOfRui\\JsonToDataset\\Masks\\37.png\n",
      "[finished] F:\\WarehouseOfRui\\JsonToDataset\\Masks\\39.png\n",
      "[finished] F:\\WarehouseOfRui\\JsonToDataset\\Masks\\4.png\n",
      "[finished] F:\\WarehouseOfRui\\JsonToDataset\\Masks\\40.png\n",
      "[finished] F:\\WarehouseOfRui\\JsonToDataset\\Masks\\41.png\n",
      "[finished] F:\\WarehouseOfRui\\JsonToDataset\\Masks\\42.png\n",
      "[finished] F:\\WarehouseOfRui\\JsonToDataset\\Masks\\43.png\n",
      "[finished] F:\\WarehouseOfRui\\JsonToDataset\\Masks\\44.png\n",
      "[finished] F:\\WarehouseOfRui\\JsonToDataset\\Masks\\45.png\n",
      "[finished] F:\\WarehouseOfRui\\JsonToDataset\\Masks\\46.png\n",
      "[finished] F:\\WarehouseOfRui\\JsonToDataset\\Masks\\47.png\n",
      "[finished] F:\\WarehouseOfRui\\JsonToDataset\\Masks\\48.png\n",
      "[finished] F:\\WarehouseOfRui\\JsonToDataset\\Masks\\49.png\n",
      "[finished] F:\\WarehouseOfRui\\JsonToDataset\\Masks\\5.png\n",
      "[finished] F:\\WarehouseOfRui\\JsonToDataset\\Masks\\50.png\n",
      "[finished] F:\\WarehouseOfRui\\JsonToDataset\\Masks\\6.png\n",
      "[finished] F:\\WarehouseOfRui\\JsonToDataset\\Masks\\7.png\n",
      "[finished] F:\\WarehouseOfRui\\JsonToDataset\\Masks\\8.png\n"
     ]
    }
   ],
   "source": [
    "from shutil import copyfile\n",
    "\n",
    "MASK_PATH = 'F:\\WarehouseOfRui\\JsonToDataset\\Masks'\n",
    "for idx in files:\n",
    "    file_path = os.path.join(STORE_PATH, idx, 'label.png')\n",
    "    dst_path = os.path.join(MASK_PATH, idx+'.png')\n",
    "    copyfile(file_path, dst_path)\n",
    "    print('[finished]', dst_path)"
   ],
   "metadata": {
    "collapsed": false,
    "pycharm": {
     "name": "#%%\n"
    }
   }
  },
  {
   "cell_type": "code",
   "execution_count": 31,
   "outputs": [
    {
     "name": "stdout",
     "output_type": "stream",
     "text": [
      "[finished] labelme_json_to_dataset F:\\WarehouseOfRui\\FYP\\Cropped_imgs\\Dataset_now\\39.json -o F:\\WarehouseOfRui\\JsonToDataset\\39\n",
      "[finished] F:\\WarehouseOfRui\\JsonToDataset\\Masks\\39.png\n"
     ]
    }
   ],
   "source": [
    "idx = '39'\n",
    "folder_path = os.path.join(STORE_PATH, idx)\n",
    "json_path = os.path.join(PATH, idx + '.json')\n",
    "cmd = str('labelme_json_to_dataset %s -o %s'% (json_path, folder_path))\n",
    "os.system(cmd)\n",
    "print('[finished]',cmd)\n",
    "\n",
    "file_path = os.path.join(STORE_PATH, idx, 'label.png')\n",
    "dst_path = os.path.join(MASK_PATH, idx+'.png')\n",
    "copyfile(file_path, dst_path)\n",
    "print('[finished]', dst_path)"
   ],
   "metadata": {
    "collapsed": false,
    "pycharm": {
     "name": "#%%\n"
    }
   }
  },
  {
   "cell_type": "code",
   "execution_count": null,
   "outputs": [],
   "source": [],
   "metadata": {
    "collapsed": false,
    "pycharm": {
     "name": "#%%\n"
    }
   }
  }
 ],
 "metadata": {
  "kernelspec": {
   "display_name": "Python 3",
   "language": "python",
   "name": "python3"
  },
  "language_info": {
   "codemirror_mode": {
    "name": "ipython",
    "version": 2
   },
   "file_extension": ".py",
   "mimetype": "text/x-python",
   "name": "python",
   "nbconvert_exporter": "python",
   "pygments_lexer": "ipython2",
   "version": "2.7.6"
  }
 },
 "nbformat": 4,
 "nbformat_minor": 0
}