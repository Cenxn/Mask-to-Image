{
 "cells": [
  {
   "cell_type": "code",
   "execution_count": 1,
   "metadata": {
    "collapsed": true
   },
   "outputs": [],
   "source": [
    "import os\n",
    "import numpy as np\n",
    "from PIL import Image\n",
    "import imgviz"
   ]
  },
  {
   "cell_type": "code",
   "execution_count": 2,
   "outputs": [],
   "source": [
    "TEST_IMGS = r'F:\\WarehouseOfRui\\FYP\\TestImgsFroPix2pix\\test_B'  # class B (direction B2A)\n",
    "TEST_ABS = r'F:\\WarehouseOfRui\\FYP\\TestImgsFroPix2pix\\test'\n",
    "TEST_EXTRA = r'F:\\WarehouseOfRui\\FYP\\TestImgsFroPix2pix\\test_A'"
   ],
   "metadata": {
    "collapsed": false,
    "pycharm": {
     "name": "#%%\n"
    }
   }
  },
  {
   "cell_type": "code",
   "execution_count": 7,
   "outputs": [],
   "source": [
    "def combine_test_imge_with_balck_A(image_b, path_AB):\n",
    "    image_A = np.zeros([256,256], dtype=np.int32)\n",
    "    image_B = np.asarray(Image.open(image_b), dtype=np.int32)\n",
    "    image_AB = np.concatenate([image_A, image_B], 1)\n",
    "    lbl_pil = Image.fromarray(image_AB.astype(np.uint8), mode=\"P\")\n",
    "    colormap = imgviz.label_colormap()\n",
    "    lbl_pil.putpalette(colormap.flatten())\n",
    "    lbl_pil.save(path_AB)"
   ],
   "metadata": {
    "collapsed": false,
    "pycharm": {
     "name": "#%%\n"
    }
   }
  },
  {
   "cell_type": "code",
   "execution_count": 5,
   "outputs": [],
   "source": [
    "import cv2\n",
    "\n",
    "def combine_test_imge_with_colorful_A(image_a, image_b, path_AB):\n",
    "    im_A = cv2.imread(image_a, 1) # python2: cv2.CV_LOAD_IMAGE_COLOR; python3: cv2.IMREAD_COLOR\n",
    "    im_B = cv2.imread(image_b, 1) # python2: cv2.CV_LOAD_IMAGE_COLOR; python3: cv2.IMREAD_COLOR\n",
    "    im_AB = np.concatenate([im_A, im_B], 1)\n",
    "    cv2.imwrite(path_AB, im_AB)"
   ],
   "metadata": {
    "collapsed": false,
    "pycharm": {
     "name": "#%%\n"
    }
   }
  },
  {
   "cell_type": "code",
   "execution_count": 9,
   "outputs": [
    {
     "name": "stdout",
     "output_type": "stream",
     "text": [
      "[finished] 0_test.png\n",
      "[finished] customized_msk.png\n"
     ]
    }
   ],
   "source": [
    "test_imli = os.listdir(TEST_IMGS)\n",
    "for img in test_imli:\n",
    "    path_B = os.path.join(TEST_IMGS, img)\n",
    "    path_AB = os.path.join(TEST_ABS, img)\n",
    "    combine_test_imge_with_balck_A(path_B, path_AB)\n",
    "    print('[finished]', img)"
   ],
   "metadata": {
    "collapsed": false,
    "pycharm": {
     "name": "#%%\n"
    }
   }
  },
  {
   "cell_type": "code",
   "execution_count": 6,
   "outputs": [
    {
     "name": "stdout",
     "output_type": "stream",
     "text": [
      "[finished] customized_msk.png\n"
     ]
    }
   ],
   "source": [
    "test_imli = os.listdir(TEST_IMGS)\n",
    "for img in test_imli:\n",
    "    path_A = os.path.join(TEST_EXTRA, img)\n",
    "    path_B = os.path.join(TEST_IMGS, img)\n",
    "    path_AB = os.path.join(TEST_ABS, img)\n",
    "    combine_test_imge_with_colorful_A(path_A, path_B, path_AB)\n",
    "    print('[finished]', img)"
   ],
   "metadata": {
    "collapsed": false,
    "pycharm": {
     "name": "#%%\n"
    }
   }
  },
  {
   "cell_type": "code",
   "execution_count": null,
   "outputs": [],
   "source": [],
   "metadata": {
    "collapsed": false,
    "pycharm": {
     "name": "#%%\n"
    }
   }
  }
 ],
 "metadata": {
  "kernelspec": {
   "display_name": "Python 3",
   "language": "python",
   "name": "python3"
  },
  "language_info": {
   "codemirror_mode": {
    "name": "ipython",
    "version": 2
   },
   "file_extension": ".py",
   "mimetype": "text/x-python",
   "name": "python",
   "nbconvert_exporter": "python",
   "pygments_lexer": "ipython2",
   "version": "2.7.6"
  }
 },
 "nbformat": 4,
 "nbformat_minor": 0
}